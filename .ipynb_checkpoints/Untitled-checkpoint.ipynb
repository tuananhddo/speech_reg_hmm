{
 "cells": [
  {
   "cell_type": "code",
   "execution_count": 6,
   "metadata": {
    "pycharm": {
     "is_executing": false
    }
   },
   "outputs": [],
   "source": [
    "import librosa\n",
    "import numpy as np\n",
    "import os\n",
    "import math\n",
    "from sklearn.cluster import KMeans\n",
    "import hmmlearn.hmm\n",
    "\n",
    "\n",
    "\n"
   ]
  },
  {
   "cell_type": "code",
   "execution_count": 12,
   "metadata": {
    "pycharm": {
     "is_executing": false
    }
   },
   "outputs": [],
   "source": [
    "def get_mfcc(file_path):\n",
    "    y, sr = librosa.load(file_path)  # read .wav file\n",
    "    hop_length = math.floor(sr * 0.010)  # 10ms hop\n",
    "    win_length = math.floor(sr * 0.025)  # 25ms frame\n",
    "    # mfcc is 12 x T matrix\n",
    "    mfcc = librosa.feature.mfcc(\n",
    "        y, sr, n_mfcc=12, n_fft=1024,\n",
    "        hop_length=hop_length, win_length=win_length)\n",
    "    # substract mean from mfcc --> normalize mfcc\n",
    "    mfcc = mfcc - np.mean(mfcc, axis=1).reshape((-1, 1))\n",
    "    # delta feature 1st order and 2nd order\n",
    "    delta1 = librosa.feature.delta(mfcc, order=1)\n",
    "    delta2 = librosa.feature.delta(mfcc, order=2)\n",
    "    # X is 36 x T\n",
    "    X = np.concatenate([mfcc, delta1, delta2], axis=0)  # O^r\n",
    "    # return T x 36 (transpose of X)\n",
    "    return X.T  # hmmlearn use T x N matrix\n",
    "\n",
    "\n",
    "def get_class_data(data_dir):\n",
    "    files = os.listdir(data_dir)\n",
    "    mfcc = [get_mfcc(os.path.join('c:/user/asus/pycharmProjects/untitled',data_dir, f)) for f in files if f.endswith(\".wav\")]\n",
    "    return mfcc\n",
    "\n",
    "\n",
    "def clustering(X, n_clusters=10):\n",
    "    kmeans = KMeans(n_clusters=n_clusters, n_init=50, random_state=0, verbose=0)\n",
    "    kmeans.fit(X)\n",
    "    print(\"centers\", kmeans.cluster_centers_.shape)\n",
    "    return kmeans\n"
   ]
  },
  {
   "cell_type": "code",
   "execution_count": 13,
   "outputs": [
    {
     "name": "stdout",
     "text": [
      "Load Nao dataset\n"
     ],
     "output_type": "stream"
    },
    {
     "traceback": [
      "\u001b[1;31m---------------------------------------------------------------------------\u001b[0m",
      "\u001b[1;31mFileNotFoundError\u001b[0m                         Traceback (most recent call last)",
      "\u001b[1;32m<ipython-input-13-2fc2e8bde931>\u001b[0m in \u001b[0;36m<module>\u001b[1;34m\u001b[0m\n\u001b[0;32m      6\u001b[0m     \u001b[1;32mfor\u001b[0m \u001b[0mcname\u001b[0m \u001b[1;32min\u001b[0m \u001b[0mclass_names\u001b[0m\u001b[1;33m:\u001b[0m\u001b[1;33m\u001b[0m\u001b[1;33m\u001b[0m\u001b[0m\n\u001b[0;32m      7\u001b[0m         \u001b[0mprint\u001b[0m\u001b[1;33m(\u001b[0m\u001b[1;34mf\"Load {cname} dataset\"\u001b[0m\u001b[1;33m)\u001b[0m\u001b[1;33m\u001b[0m\u001b[1;33m\u001b[0m\u001b[0m\n\u001b[1;32m----> 8\u001b[1;33m         \u001b[0mdataset\u001b[0m\u001b[1;33m[\u001b[0m\u001b[0mcname\u001b[0m\u001b[1;33m]\u001b[0m \u001b[1;33m=\u001b[0m \u001b[0mget_class_data\u001b[0m\u001b[1;33m(\u001b[0m\u001b[0mos\u001b[0m\u001b[1;33m.\u001b[0m\u001b[0mpath\u001b[0m\u001b[1;33m.\u001b[0m\u001b[0mjoin\u001b[0m\u001b[1;33m(\u001b[0m\u001b[1;34m\"data\"\u001b[0m\u001b[1;33m,\u001b[0m \u001b[0mcname\u001b[0m\u001b[1;33m)\u001b[0m\u001b[1;33m)\u001b[0m\u001b[1;33m\u001b[0m\u001b[1;33m\u001b[0m\u001b[0m\n\u001b[0m\u001b[0;32m      9\u001b[0m \u001b[1;33m\u001b[0m\u001b[0m\n\u001b[0;32m     10\u001b[0m     \u001b[1;31m# Get all vectors in the datasets\u001b[0m\u001b[1;33m\u001b[0m\u001b[1;33m\u001b[0m\u001b[1;33m\u001b[0m\u001b[0m\n",
      "\u001b[1;32m<ipython-input-12-23f388645fcc>\u001b[0m in \u001b[0;36mget_class_data\u001b[1;34m(data_dir)\u001b[0m\n\u001b[0;32m     19\u001b[0m \u001b[1;33m\u001b[0m\u001b[0m\n\u001b[0;32m     20\u001b[0m \u001b[1;32mdef\u001b[0m \u001b[0mget_class_data\u001b[0m\u001b[1;33m(\u001b[0m\u001b[0mdata_dir\u001b[0m\u001b[1;33m)\u001b[0m\u001b[1;33m:\u001b[0m\u001b[1;33m\u001b[0m\u001b[1;33m\u001b[0m\u001b[0m\n\u001b[1;32m---> 21\u001b[1;33m     \u001b[0mfiles\u001b[0m \u001b[1;33m=\u001b[0m \u001b[0mos\u001b[0m\u001b[1;33m.\u001b[0m\u001b[0mlistdir\u001b[0m\u001b[1;33m(\u001b[0m\u001b[0mdata_dir\u001b[0m\u001b[1;33m)\u001b[0m\u001b[1;33m\u001b[0m\u001b[1;33m\u001b[0m\u001b[0m\n\u001b[0m\u001b[0;32m     22\u001b[0m     \u001b[0mmfcc\u001b[0m \u001b[1;33m=\u001b[0m \u001b[1;33m[\u001b[0m\u001b[0mget_mfcc\u001b[0m\u001b[1;33m(\u001b[0m\u001b[0mos\u001b[0m\u001b[1;33m.\u001b[0m\u001b[0mpath\u001b[0m\u001b[1;33m.\u001b[0m\u001b[0mjoin\u001b[0m\u001b[1;33m(\u001b[0m\u001b[1;34m'c:/user/asus/pycharmProjects/untitled'\u001b[0m\u001b[1;33m,\u001b[0m\u001b[0mdata_dir\u001b[0m\u001b[1;33m,\u001b[0m \u001b[0mf\u001b[0m\u001b[1;33m)\u001b[0m\u001b[1;33m)\u001b[0m \u001b[1;32mfor\u001b[0m \u001b[0mf\u001b[0m \u001b[1;32min\u001b[0m \u001b[0mfiles\u001b[0m \u001b[1;32mif\u001b[0m \u001b[0mf\u001b[0m\u001b[1;33m.\u001b[0m\u001b[0mendswith\u001b[0m\u001b[1;33m(\u001b[0m\u001b[1;34m\".wav\"\u001b[0m\u001b[1;33m)\u001b[0m\u001b[1;33m]\u001b[0m\u001b[1;33m\u001b[0m\u001b[1;33m\u001b[0m\u001b[0m\n\u001b[0;32m     23\u001b[0m     \u001b[1;32mreturn\u001b[0m \u001b[0mmfcc\u001b[0m\u001b[1;33m\u001b[0m\u001b[1;33m\u001b[0m\u001b[0m\n",
      "\u001b[1;31mFileNotFoundError\u001b[0m: [WinError 3] The system cannot find the path specified: 'data\\\\Nao'"
     ],
     "ename": "FileNotFoundError",
     "evalue": "[WinError 3] The system cannot find the path specified: 'data\\\\Nao'",
     "output_type": "error"
    }
   ],
   "source": [
    "if __name__ == \"__main__\":\n",
    "    # class_names = [\"one\", \"two\", \"test_one\", \"test_two\"]\n",
    "    # class_names = [\"benh_nhan\",\"benh_nhan_test\"]\n",
    "    class_names = [\"Nao\", \"test_nao\"]\n",
    "    dataset = {}\n",
    "    for cname in class_names:\n",
    "        print(f\"Load {cname} dataset\")\n",
    "        dataset[cname] = get_class_data(os.path.join(\"data\", cname))\n",
    "\n",
    "    # Get all vectors in the datasets\n",
    "    all_vectors = np.concatenate([np.concatenate(v, axis=0) for k, v in dataset.items()], axis=0)\n",
    "    print(\"vectors\", all_vectors.shape)\n",
    "    # Run K-Means algorithm to get clusters\n",
    "    kmeans = clustering(all_vectors)\n",
    "    print(\"centers\", kmeans.cluster_centers_.shape)\n",
    "\n",
    "    models = {}\n",
    "    for cname in class_names:\n",
    "        class_vectors = dataset[cname]\n",
    "        # convert all vectors to the cluster index\n",
    "        # dataset['one'] = [O^1, ... O^R]\n",
    "        # O^r = (c1, c2, ... ct, ... cT)\n",
    "        # O^r size T x 1\n",
    "        dataset[cname] = list([kmeans.predict(v).reshape(-1, 1) for v in dataset[cname]])\n",
    "        hmm = hmmlearn.hmm.MultinomialHMM(\n",
    "            n_components=9, random_state=0, n_iter=1000, verbose=True,\n",
    "            startprob_prior=np.array([0.7, 0.2, 0.1, 0.0, 0.0, 0.0, 0.0, 0.0, 0.0]),\n",
    "            transmat_prior=np.array([\n",
    "                [0.1, 0.5, 0.1, 0.1, 0.1, 0.1, 0.0, 0.0, 0.0],\n",
    "                [0.1, 0.1, 0.5, 0.1, 0.1, 0.1, 0.0, 0.0, 0.0],\n",
    "                [0.1, 0.1, 0.1, 0.5, 0.1, 0.1, 0.0, 0.0, 0.0],\n",
    "                [0.1, 0.1, 0.1, 0.1, 0.5, 0.1, 0.0, 0.0, 0.0],\n",
    "                [0.1, 0.1, 0.1, 0.1, 0.1, 0.5, 0.0, 0.0, 0.0],\n",
    "                [0.1, 0.1, 0.1, 0.1, 0.1, 0.5, 0.0, 0.0, 0.0],\n",
    "                [0.1, 0.1, 0.1, 0.1, 0.1, 0.5, 0.0, 0.0, 0.0],\n",
    "                [0.1, 0.1, 0.1, 0.1, 0.1, 0.5, 0.0, 0.0, 0.0],\n",
    "                [0.1, 0.1, 0.1, 0.1, 0.1, 0.5, 0.0, 0.0, 0.0],\n",
    "\n",
    "            ]),\n",
    "\n",
    "        )\n",
    "        if cname[:4] != 'test':\n",
    "            X = np.concatenate(dataset[cname])\n",
    "            lengths = list([len(x) for x in dataset[cname]])\n",
    "            print(\"training class\", cname)\n",
    "            print(X.shape, lengths, len(lengths))\n",
    "            hmm.fit(X, lengths=lengths)\n",
    "            models[cname] = hmm\n",
    "    print(\"Training done\")\n",
    "\n",
    "    print(\"Testing\")\n",
    "    for true_cname in class_names:\n",
    "        for O in dataset[true_cname]:\n",
    "            score = {cname: model.score(O, [len(O)]) for cname, model in models.items() if cname[:4] != 'test'}\n",
    "            print(true_cname, score)"
   ],
   "metadata": {
    "collapsed": false,
    "pycharm": {
     "name": "#%%\n",
     "is_executing": false
    }
   }
  },
  {
   "cell_type": "code",
   "execution_count": null,
   "metadata": {},
   "outputs": [],
   "source": []
  }
 ],
 "metadata": {
  "kernelspec": {
   "display_name": "Python 3",
   "language": "python",
   "name": "python3"
  },
  "language_info": {
   "codemirror_mode": {
    "name": "ipython",
    "version": 3
   },
   "file_extension": ".py",
   "mimetype": "text/x-python",
   "name": "python",
   "nbconvert_exporter": "python",
   "pygments_lexer": "ipython3",
   "version": "3.7.3"
  },
  "pycharm": {
   "stem_cell": {
    "cell_type": "raw",
    "source": [],
    "metadata": {
     "collapsed": false
    }
   }
  }
 },
 "nbformat": 4,
 "nbformat_minor": 2
}